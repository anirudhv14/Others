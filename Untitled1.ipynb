{
 "cells": [
  {
   "cell_type": "code",
   "execution_count": 11,
   "metadata": {},
   "outputs": [
    {
     "name": "stdout",
     "output_type": "stream",
     "text": [
      "Enter a string:CGCCGCCG\n",
      "['$', 'C', 'G', 'C', 'C', 'G', 'C', 'C', 'G']\n",
      "['G$CGCCGCC', 'CG$CGCCGC', 'CCG$CGCCG', 'GCCG$CGCC', 'CGCCG$CGC', 'CCGCCG$CG', 'GCCGCCG$C', 'CGCCGCCG$', '$CGCCGCCG']\n",
      "['$CGCCGCCG', 'CCG$CGCCG', 'CCGCCG$CG', 'CG$CGCCGC', 'CGCCG$CGC', 'CGCCGCCG$', 'G$CGCCGCC', 'GCCG$CGCC', 'GCCGCCG$C']\n",
      "G\n",
      "G\n",
      "G\n",
      "C\n",
      "C\n",
      "$\n",
      "C\n",
      "C\n",
      "C\n"
     ]
    }
   ],
   "source": [
    "a = input(\"Enter a string:\")\n",
    "a = \"$\"+a\n",
    "words = []\n",
    "for i in a:\n",
    "    words.append(i)\n",
    "print(words)\n",
    "list = []\n",
    "for i in range(len(words)):\n",
    "    word = a[-1] + a[:-1]\n",
    "    new = ''.join(word)\n",
    "    a = new\n",
    "    list.append(new)\n",
    "print(list)\n",
    "sort = sorted(list)\n",
    "print(sort)\n",
    "for i in range(len(words)):\n",
    "    element = sort[i]\n",
    "    last = element[- 1]\n",
    "    i = i + 1\n",
    "    print(last)"
   ]
  }
 ],
 "metadata": {
  "kernelspec": {
   "display_name": "Python 3",
   "language": "python",
   "name": "python3"
  },
  "language_info": {
   "codemirror_mode": {
    "name": "ipython",
    "version": 3
   },
   "file_extension": ".py",
   "mimetype": "text/x-python",
   "name": "python",
   "nbconvert_exporter": "python",
   "pygments_lexer": "ipython3",
   "version": "3.7.3"
  }
 },
 "nbformat": 4,
 "nbformat_minor": 2
}
